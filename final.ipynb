{
  "nbformat": 4,
  "nbformat_minor": 0,
  "metadata": {
    "colab": {
      "name": "final.ipynb",
      "provenance": []
    },
    "kernelspec": {
      "name": "python3",
      "display_name": "Python 3"
    },
    "language_info": {
      "name": "python"
    },
    "accelerator": "GPU"
  },
  "cells": [
    {
      "cell_type": "markdown",
      "source": [
        "# 1. Installing the required libraries"
      ],
      "metadata": {
        "id": "lCUk8n05rBOW"
      }
    },
    {
      "cell_type": "code",
      "execution_count": null,
      "metadata": {
        "id": "7ruO26ORluz5"
      },
      "outputs": [],
      "source": [
        "# Installing the libraries for project\n",
        "!pip install -U pip setuptools wheel\n",
        "!pip install -U spacy\n",
        "!pip install spacy-transformers\n",
        "!python -m spacy download en_core_web_trf\n",
        "!!pip install tika\n"
      ]
    },
    {
      "cell_type": "markdown",
      "source": [
        "# 2. Loading the important libraries and connecting to google drive"
      ],
      "metadata": {
        "id": "gApMx-ejrJeb"
      }
    },
    {
      "cell_type": "code",
      "source": [
        "# Connecting to google drive\n",
        "#Taken help from https://stackoverflow.com/questions/71695387/connecting-to-a-different-google-drive-than-the-one-logged-into-google-colab/71696254#71696254\n",
        "!sudo add-apt-repository ppa:alessandro-strada/ppa\n",
        "!sudo apt update && sudo apt install google-drive-ocamlfuse\n",
        "!google-drive-ocamlfuse\n",
        "\n",
        "!sudo apt-get install w3m # to act as web browser \n",
        "!xdg-settings set default-web-browser w3m.desktop # to set default browser\n",
        "\n",
        "\n",
        "%cd /content\n",
        "!mkdir gdrive\n",
        "%cd gdrive\n",
        "!mkdir \"My Drive\"\n",
        "!google-drive-ocamlfuse \"/content/gdrive/My Drive\""
      ],
      "metadata": {
        "id": "-te2frPGqf97"
      },
      "execution_count": null,
      "outputs": []
    },
    {
      "cell_type": "code",
      "source": [
        "import os \n",
        "import json\n",
        "import pandas as pd \n",
        "import numpy as np\n",
        "import matplotlib.pyplot as plt\n",
        "import spacy \n",
        "from spacy.tokens import DocBin\n",
        "from tqdm import tqdm\n",
        "import re\n",
        "from tika import parser\n",
        "import warnings\n",
        "from spacy.scorer import Scorer\n",
        "from spacy.tokens import Doc\n",
        "from spacy.training.example import Example"
      ],
      "metadata": {
        "id": "_xSP7Xh8rR1z"
      },
      "execution_count": null,
      "outputs": []
    },
    {
      "cell_type": "code",
      "source": [
        "# Changing the base directory to correct folder\n",
        "os.chdir('/content/gdrive/My Drive/appliedai/assignment/case_study_2')"
      ],
      "metadata": {
        "id": "aMajPS3isBAL"
      },
      "execution_count": null,
      "outputs": []
    },
    {
      "cell_type": "markdown",
      "source": [
        "# 3. Main Functions"
      ],
      "metadata": {
        "id": "_-pMOeTItwv7"
      }
    },
    {
      "cell_type": "code",
      "source": [
        "def load_resumes_files_folder():\n",
        "  '''This function loads the resumes folder which contains lots of resumes from which we can select any one at random\n",
        "  '''\n",
        "  sub_directory_for_resume = 'naukri_resumes'\n",
        "  files_list = os.listdir('naukri_resumes')\n",
        "  return sub_directory_for_resume,files_list\n"
      ],
      "metadata": {
        "id": "BpKTwZLqtFiK"
      },
      "execution_count": null,
      "outputs": []
    },
    {
      "cell_type": "code",
      "source": [
        "def pdf_to_text(filepath):\n",
        "  '''Extracts the text data from the pdf'''\n",
        "  raw = parser.from_file(filepath)\n",
        "  text = raw['content']\n",
        "  return text\n"
      ],
      "metadata": {
        "id": "ZeixX-rFtmjM"
      },
      "execution_count": null,
      "outputs": []
    },
    {
      "cell_type": "code",
      "source": [
        "def preprocess(text):\n",
        "  text = \"\".join([s for s in text.splitlines(True) if s.strip(\"\\r\\n\")])\n",
        "  return text"
      ],
      "metadata": {
        "id": "6UY-U5fOtqBB"
      },
      "execution_count": null,
      "outputs": []
    },
    {
      "cell_type": "code",
      "source": [
        "def load_model():\n",
        "  nlp = spacy.load('generated_model/model-best')\n",
        "  return nlp"
      ],
      "metadata": {
        "id": "LeCc2HH_uAel"
      },
      "execution_count": null,
      "outputs": []
    },
    {
      "cell_type": "code",
      "source": [
        "def function_1(file_number):\n",
        "  '''This function takes the pdf file number from the user and then choose the corresponding resumes \n",
        "  from the resume file and then give the result'''\n",
        "  warnings.filterwarnings(\"ignore\")\n",
        "  # Loading the resume files folder\n",
        "  sub_directory_for_resume,files_list = load_resumes_files_folder()\n",
        "  # Selecting the file which user choose\n",
        "  complete_file_path = os.path.join(sub_directory_for_resume,files_list[file_number])\n",
        "  # Extracting the text from the pdf\n",
        "  text = pdf_to_text(complete_file_path)\n",
        "  # Preprocessing the text\n",
        "  text = preprocess(text)\n",
        "  # Load the model\n",
        "  nlp = load_model()\n",
        "  for doc in nlp.pipe([text], disable=[\"tagger\", \"parser\"]):\n",
        "    for ent in doc.ents:\n",
        "        text_name = re.sub('[^A-Za-z0-9]+', ' ', ent.text).strip()\n",
        "        print((text_name,ent.label_))\n",
        "\n",
        "\n"
      ],
      "metadata": {
        "id": "8kMSkvXjvXEP"
      },
      "execution_count": null,
      "outputs": []
    },
    {
      "cell_type": "code",
      "source": [
        "function_1(50)"
      ],
      "metadata": {
        "colab": {
          "base_uri": "https://localhost:8080/"
        },
        "id": "jJ5R3SgiybkY",
        "outputId": "3c3c0138-a3a8-4d7b-ce78-63358daf2be1"
      },
      "execution_count": null,
      "outputs": [
        {
          "output_type": "stream",
          "name": "stdout",
          "text": [
            "('Gangadhar Kavisetty', 'EDUC')\n",
            "('1 3', 'DEGREE')\n",
            "('Glosoft Technologies', 'ORG')\n",
            "('Bengaluru Bangalore', 'EDUC')\n",
            "('Secunderabad Bengaluru Bangalore Chennai', 'EDUC')\n",
            "('B Tech B E Electronics Telecommunication', 'DEGREE')\n",
            "('SOC Analyst', 'SKILL')\n",
            "('System Security Engineer', 'SKILL')\n",
            "('IT Security', 'SKILL')\n",
            "('Information Security', 'SKILL')\n",
            "('Cyber Security', 'SKILL')\n",
            "('7 Mar 22Last Modified 4 Mar 22 Jump to Section', 'EXPERIENCE')\n",
            "('Gangadhar Kavisetty', 'ORG')\n",
            "('2 3', 'DEGREE')\n",
            "('Cyber Security Engineer', 'SKILL')\n",
            "('3 years of experience in SIEM Vulnerability', 'EXPERIENCE')\n",
            "('direct and remote analysis', 'SKILL')\n",
            "('Glosoft Technologies Pvt Ltd as', 'ORG')\n",
            "('SOC Analyst Nov 2018 to Till Date Monitoring Splunk by fetching the Application System and Security related logs from Endpoint devices like Firewall Switch Router Workstations Managed and Monitored for network security capabilities and solutions', 'EXPERIENCE')\n",
            "('firewalls', 'TOOL')\n",
            "('B Tech B E Electronics Telecommunication', 'DEGREE')\n",
            "('AMbedkar institute of technology bangalore', 'EDUC')\n",
            "('3 3', 'DEGREE')\n",
            "('OBC', 'TOOL')\n"
          ]
        }
      ]
    },
    {
      "cell_type": "code",
      "source": [
        "def load_json_file(file_number):\n",
        "  '''Loads text data of training data which is in annotated form. Enter file_number between 0 to 50 '''\n",
        "  spider_tagged_data = 'spider_software_tagged_data'\n",
        "  list_tagged_files = os.listdir(spider_tagged_data)\n",
        "  file_path = os.path.join(spider_tagged_data,list_tagged_files[file_number])\n",
        "  with open(file_path,'r') as f:\n",
        "    data = json.load(f)\n",
        "  return data['annotations']\n",
        "\n",
        "\n"
      ],
      "metadata": {
        "id": "D9D1sohwyg8v"
      },
      "execution_count": null,
      "outputs": []
    },
    {
      "cell_type": "code",
      "source": [
        "# Taken from https://stackoverflow.com/questions/68213223/how-to-evaluate-trained-spacy-version-3-model#:~:text=nlp%20%3D%20spacy.load(path_to_model)%0Aexamples%20%3D%20%5B%5D%0Ascorer%20%3D%20Scorer()%0Afor%20text%2C%20annotations%20in%20TEST_REVISION_DATA%3A%0A%20%20%20%20doc%20%3D%20nlp.make_doc(text)%0A%20%20%20%20example%20%3D%20Example.from_dict(doc%2C%20annotations)%0A%20%20%20%20example.predicted%20%3D%20nlp(str(example.predicted))%0A%20%20%20%20examples.append(example)%0Ascorer.score(examples)\n",
        "def score_metrics(nlp,data):\n",
        "  examples = []\n",
        "  scorer = Scorer()\n",
        "  for text, annotations in data:\n",
        "      doc = nlp.make_doc(text)\n",
        "      example = Example.from_dict(doc, annotations)\n",
        "      example.predicted = nlp(str(example.predicted))\n",
        "      examples.append(example)\n",
        "  result_metrics = scorer.score(examples)\n",
        "  return result_metrics['ents_per_type']"
      ],
      "metadata": {
        "id": "KCJrTNohSeCx"
      },
      "execution_count": null,
      "outputs": []
    },
    {
      "cell_type": "code",
      "source": [
        "def function_2(file_number):\n",
        "  '''In this function it takes file number as input and correspondingly choose required annotated file from the folder.And after that it can \n",
        "  show the output of precision,recall,f1_score\n",
        "  '''\n",
        "  data = load_json_file(file_number)\n",
        "  print('The data looks like:')\n",
        "  for a in data:\n",
        "    print(a)\n",
        "  nlp = load_model()\n",
        "  result_net = score_metrics(nlp,data)\n",
        "  print('='*100)\n",
        "  print('The result metrics are down below')\n",
        "  print('-'*100)\n",
        "  for i,j in result_net.items():\n",
        "    print(i,' ',j)\n",
        "\n",
        "\n",
        "\n"
      ],
      "metadata": {
        "id": "94Ucrf0QMXsw"
      },
      "execution_count": null,
      "outputs": []
    },
    {
      "cell_type": "code",
      "source": [
        "# Here you can choose any number between 0 to 50 including both of them\n",
        "function_2(43)"
      ],
      "metadata": {
        "colab": {
          "base_uri": "https://localhost:8080/"
        },
        "id": "iCI89sh7UPzL",
        "outputId": "1c0b9657-d9cd-4ab0-ce97-f20f8cbeb19a"
      },
      "execution_count": null,
      "outputs": [
        {
          "output_type": "stream",
          "name": "stdout",
          "text": [
            "The data looks like:\n",
            "['Program Manager Resume', {'entities': [[0, 15, 'JOB_TITLE']]}]\n",
            "['Job Level Management Manager Director ', {'entities': [[21, 37, 'JOB_TITLE']]}]\n",
            "['Highest Degree Attained Bachelors', {'entities': [[24, 33, 'DEGREE']]}]\n",
            "['Objective Strategic and results driven professional offering more than 12 years of practical experience in Software Industry focused on technical program management and product quality Accredited as a contributor to the development of all Norton major product releases Resourceful leader skilled in streamlining operation and maintaining schedule to ensure maximum results in business revenue Ability to manage multiple concurrent high value projects while maintaining technical savvy strategic thinking and tactical execution Practical understanding of managing full life cycle large scale modern production software programs High proficiency in planning collaboration communication with ability to drive business operations and processes efficiently and effectively Strong Analytical background and business intuition to synthesize and make recommendations based on imperfect data Fully engaged with product engineering team to define and innovate product prototypes Ability to evaluate integrate and re architect solutions to ensure teams are working on high impact projects that align with company mission and goals Possess a unique blend of hands on experience in Enterprise Commercial and Consumer products Additional qualifications include Excellent trade off management in achieving tactical and strategic objectives Adept in data driven decision making and problem solving Ability to successfully influence others to best outcomes without having to use authority Proven leadership skills in highly volatile cross functional and cross organizational environments Exposure to product management best practices and requirements elicitation Strong experience and understanding of software engineering practices and change management Familiarity with both Waterfall and Agile methods including practices through multiple Scrum and Kanban teams ', {'entities': [[71, 103, 'EXPERIENCE'], [136, 195, 'SKILL'], [239, 259, 'TOOL'], [299, 337, 'SKILL'], [350, 526, 'SKILL'], [554, 617, 'SKILL'], [768, 796, 'SKILL'], [801, 819, 'SKILL'], [1146, 1212, 'EXPERIENCE'], [1257, 1324, 'SKILL'], [1334, 1361, 'SKILL'], [1366, 1389, 'SKILL'], [1472, 1496, 'SKILL'], [1685, 1737, 'EXPERIENCE'], [1760, 1787, 'TOOL'], [1825, 1847, 'TOOL']]}]\n",
            "['Experience SYMANTEC CORPORATION MOUNTAIN VIEW CATechnical Program Manager 2012 Present Manage cross functional engineering projects in a matrix organization to analyze and drive strategic product delivery in highest quality efficiency and on time Highly involved in development of project life cycle during analysis design development implementation testing and post implementation phases Develop and manage end to end project scope and help drive product decisions to align with higher company initiatives and the single point of contact for the team in every aspect of the project life Coordinate highly specialized resources such as developers design team engineers and analysts to define accurate functional specification and requirements for the project and to ensure that tasks are prioritized Build project plans reconcile team schedules and establish proper milestones to ensure that tasks are executed in proper sequence Maximize efficiency in a constantly evolving environment where the process is fluid and creative solutions are the norm Guide the team to develop a deep understanding of company s product offering features risks and ultimately focusing on code quality and product efficiency Encourage collaboration between team members product owner and component teams for continuous knowledge sharing and to ensure that lessons learned are captured comprehensively appropriate resolution paths are created and acted upon Experiment and integrate various tools that can help with continuous process improvement Prepare and present program and project status to key stakeholders at regular intervals Software Quality Assurance Specialist 2003 2012 Own and is accountable for overall product version test plans prioritization of tasks and test schedules Work closely with architects and senior developers on software design and architectural issues to provide guidance from a quality development cost and release cycle standpoint and help understand key quality issues from competitive and marketplace perspectives Accountable for overall product version test plans Creative in problem solving with solutions that are able to synthesize new and existing solution elements Provide advice to development on adequacy completeness and testability of documented product requirements Serve as a corporate resource providing management with broad based technical direction and guidance on the entire quality assurance function Help to recognize benefits related to new and emerging software testing methods tools and new software quality factors and metrics Evaluate alternative resources and select those that are most suitable for use by the company Sensitive to possible negative consequences of prospective changes and to make analytical in decision making capabilities when necessary Provide advice to development team on adequacy completeness and testability of documented product requirements Contribute to the development of innovative principles and ideas Work with technical developers to design and implement solutions Collaborate with other teams to create best practices for how QA testing should be performed Define and execute unit and integration level tests on product prototypes and to evaluate re architecture solutions for existing products Evaluate third party software technology for use in our products and determine how to integrate them into new operating environments EARLIER POSITION HELDMICROSOFT CORPORATION MOUNTAIN VIEW CAQuality Assurance Engineer IBM RESEARCH CENTER SAN JOSE CAIT Support and Specialist METRICOM INC SAN JOSE CAQuality Assurance Engineer', {'entities': [[11, 31, 'ORG'], [46, 73, 'JOB_TITLE'], [87, 299, 'EXPERIENCE'], [307, 396, 'EXPERIENCE'], [401, 426, 'EXPERIENCE'], [442, 465, 'EXPERIENCE'], [647, 725, 'EXPERIENCE'], [1526, 1613, 'EXPERIENCE'], [2028, 2121, 'EXPERIENCE'], [2359, 2563, 'EXPERIENCE'], [3417, 3442, 'ORG'], [3457, 3485, 'JOB_TITLE'], [3486, 3505, 'ORG'], [3543, 3555, 'ORG'], [3565, 3593, 'JOB_TITLE']]}]\n",
            "['Education BACHELOR OF SCIENCE IN COMPUTER SCIENCE 2003San Jose State University San Jose CA', {'entities': [[10, 29, 'DEGREE'], [33, 49, 'EDUC']]}]\n",
            "['Skills Program Management Customer Relationship Decision Maker Collaborative leader Strategic Planning and Implementation Process Improvement Requirements Analysis Team Collaboration Agile Scrum Software Design and Development Quality Assurance Cross Functional Coordination Data driven Execution', {'entities': [[7, 296, 'SKILL']]}]\n",
            "['Additional Information TECHNICAL ACUMENMicrosoft Office Suite Jira Confluence WebEx Power Point WebEx Python C Java Visual Studio All Windows OS including Windows Redstone TH2 and Servers VMware Norton Security and Backup Symantec Endpoint Protection Symantec Unified Protection Norton Anti virus Windows Defender Perforce ', {'entities': [[33, 55, 'TOOL'], [56, 61, 'TOOL'], [62, 66, 'TOOL'], [67, 77, 'TOOL'], [78, 83, 'TOOL'], [84, 95, 'TOOL'], [102, 108, 'TOOL'], [109, 110, 'TOOL'], [111, 115, 'TOOL'], [116, 129, 'TOOL'], [155, 175, 'TOOL'], [180, 210, 'TOOL'], [215, 322, 'TOOL']]}]\n",
            "====================================================================================================\n",
            "The result metrics are down below\n",
            "----------------------------------------------------------------------------------------------------\n",
            "JOB_TITLE   {'p': 1.0, 'r': 1.0, 'f': 1.0}\n",
            "DEGREE   {'p': 1.0, 'r': 1.0, 'f': 1.0}\n",
            "EXPERIENCE   {'p': 1.0, 'r': 1.0, 'f': 1.0}\n",
            "SKILL   {'p': 1.0, 'r': 1.0, 'f': 1.0}\n",
            "TOOL   {'p': 1.0, 'r': 1.0, 'f': 1.0}\n",
            "ORG   {'p': 1.0, 'r': 1.0, 'f': 1.0}\n",
            "EDUC   {'p': 1.0, 'r': 1.0, 'f': 1.0}\n"
          ]
        }
      ]
    },
    {
      "cell_type": "markdown",
      "source": [
        "Now value of p,r,f are high because we have used very less training data as data is not available online directly so i manually annoated data and i only used 50 file for data annotation."
      ],
      "metadata": {
        "id": "1MK1f8ouVLwg"
      }
    },
    {
      "cell_type": "code",
      "source": [
        ""
      ],
      "metadata": {
        "id": "X3SUnsDyUS_W"
      },
      "execution_count": null,
      "outputs": []
    }
  ]
}