{
  "nbformat": 4,
  "nbformat_minor": 0,
  "metadata": {
    "colab": {
      "name": "preprocessing.ipynb",
      "provenance": []
    },
    "kernelspec": {
      "name": "python3",
      "display_name": "Python 3"
    },
    "language_info": {
      "name": "python"
    }
  },
  "cells": [
    {
      "cell_type": "code",
      "execution_count": 2,
      "metadata": {
        "id": "9rZvQr1aTEAq",
        "colab": {
          "base_uri": "https://localhost:8080/"
        },
        "outputId": "db182978-41f8-4cd7-e2ac-b92c2a03bc92"
      },
      "outputs": [
        {
          "output_type": "stream",
          "name": "stdout",
          "text": [
            " Mount Google Drive on Ubuntu (via FUSE)\n",
            " More info: https://launchpad.net/~alessandro-strada/+archive/ubuntu/ppa\n",
            "Press [ENTER] to continue or Ctrl-c to cancel adding it.\n",
            "\n",
            "Hit:1 https://cloud.r-project.org/bin/linux/ubuntu bionic-cran40/ InRelease\n",
            "Hit:2 http://archive.ubuntu.com/ubuntu bionic InRelease\n",
            "Hit:3 http://archive.ubuntu.com/ubuntu bionic-updates InRelease\n",
            "Ign:4 https://developer.download.nvidia.com/compute/cuda/repos/ubuntu1804/x86_64  InRelease\n",
            "Hit:5 http://archive.ubuntu.com/ubuntu bionic-backports InRelease\n",
            "Hit:6 http://security.ubuntu.com/ubuntu bionic-security InRelease\n",
            "Ign:7 https://developer.download.nvidia.com/compute/machine-learning/repos/ubuntu1804/x86_64  InRelease\n",
            "Hit:8 https://developer.download.nvidia.com/compute/cuda/repos/ubuntu1804/x86_64  Release\n",
            "Hit:9 https://developer.download.nvidia.com/compute/machine-learning/repos/ubuntu1804/x86_64  Release\n",
            "Hit:10 http://ppa.launchpad.net/alessandro-strada/ppa/ubuntu bionic InRelease\n",
            "Hit:11 http://ppa.launchpad.net/c2d4u.team/c2d4u4.0+/ubuntu bionic InRelease\n",
            "Hit:13 http://ppa.launchpad.net/cran/libgit2/ubuntu bionic InRelease\n",
            "Hit:15 http://ppa.launchpad.net/deadsnakes/ppa/ubuntu bionic InRelease\n",
            "Hit:16 http://ppa.launchpad.net/graphics-drivers/ppa/ubuntu bionic InRelease\n",
            "Reading package lists... Done\n",
            "Hit:1 https://cloud.r-project.org/bin/linux/ubuntu bionic-cran40/ InRelease\n",
            "Ign:2 https://developer.download.nvidia.com/compute/cuda/repos/ubuntu1804/x86_64  InRelease\n",
            "Hit:3 http://archive.ubuntu.com/ubuntu bionic InRelease\n",
            "Ign:4 https://developer.download.nvidia.com/compute/machine-learning/repos/ubuntu1804/x86_64  InRelease\n",
            "Hit:5 http://security.ubuntu.com/ubuntu bionic-security InRelease\n",
            "Hit:6 http://archive.ubuntu.com/ubuntu bionic-updates InRelease\n",
            "Hit:7 https://developer.download.nvidia.com/compute/cuda/repos/ubuntu1804/x86_64  Release\n",
            "Hit:8 http://ppa.launchpad.net/alessandro-strada/ppa/ubuntu bionic InRelease\n",
            "Hit:9 https://developer.download.nvidia.com/compute/machine-learning/repos/ubuntu1804/x86_64  Release\n",
            "Hit:10 http://archive.ubuntu.com/ubuntu bionic-backports InRelease\n",
            "Hit:11 http://ppa.launchpad.net/c2d4u.team/c2d4u4.0+/ubuntu bionic InRelease\n",
            "Hit:13 http://ppa.launchpad.net/cran/libgit2/ubuntu bionic InRelease\n",
            "Hit:15 http://ppa.launchpad.net/deadsnakes/ppa/ubuntu bionic InRelease\n",
            "Hit:16 http://ppa.launchpad.net/graphics-drivers/ppa/ubuntu bionic InRelease\n",
            "Reading package lists... Done\n",
            "Building dependency tree       \n",
            "Reading state information... Done\n",
            "96 packages can be upgraded. Run 'apt list --upgradable' to see them.\n",
            "Reading package lists... Done\n",
            "Building dependency tree       \n",
            "Reading state information... Done\n",
            "google-drive-ocamlfuse is already the newest version (0.7.27-0ubuntu1~ubuntu18.04.1).\n",
            "0 upgraded, 0 newly installed, 0 to remove and 96 not upgraded.\n",
            "/usr/bin/xdg-open: 851: /usr/bin/xdg-open: www-browser: not found\n",
            "/usr/bin/xdg-open: 851: /usr/bin/xdg-open: links2: not found\n",
            "/usr/bin/xdg-open: 851: /usr/bin/xdg-open: elinks: not found\n",
            "/usr/bin/xdg-open: 851: /usr/bin/xdg-open: links: not found\n",
            "/usr/bin/xdg-open: 851: /usr/bin/xdg-open: lynx: not found\n",
            "/usr/bin/xdg-open: 851: /usr/bin/xdg-open: w3m: not found\n",
            "xdg-open: no method available for opening 'https://accounts.google.com/o/oauth2/auth?client_id=564921029129.apps.googleusercontent.com&redirect_uri=https%3A%2F%2Fgd-ocaml-auth.appspot.com%2Foauth2callback&scope=https%3A%2F%2Fwww.googleapis.com%2Fauth%2Fdrive&response_type=code&access_type=offline&approval_prompt=force&state=t-oeDcHfs59J3W1hZoePlSaEqzTdhtWaifVUDVxeFHU'\n",
            "/bin/sh: 1: firefox: not found\n",
            "/bin/sh: 1: google-chrome: not found\n",
            "/bin/sh: 1: chromium-browser: not found\n",
            "/bin/sh: 1: open: not found\n",
            "Cannot retrieve auth tokens.\n",
            "Failure(\"Error opening URL:https://accounts.google.com/o/oauth2/auth?client_id=564921029129.apps.googleusercontent.com&redirect_uri=https%3A%2F%2Fgd-ocaml-auth.appspot.com%2Foauth2callback&scope=https%3A%2F%2Fwww.googleapis.com%2Fauth%2Fdrive&response_type=code&access_type=offline&approval_prompt=force&state=t-oeDcHfs59J3W1hZoePlSaEqzTdhtWaifVUDVxeFHU\")\n",
            "Reading package lists... Done\n",
            "Building dependency tree       \n",
            "Reading state information... Done\n",
            "The following additional packages will be installed:\n",
            "  libgpm2\n",
            "Suggested packages:\n",
            "  gpm cmigemo dict dict-wn dictd libsixel-bin mpv w3m-el w3m-img\n",
            "The following NEW packages will be installed:\n",
            "  libgpm2 w3m\n",
            "0 upgraded, 2 newly installed, 0 to remove and 96 not upgraded.\n",
            "Need to get 939 kB of archives.\n",
            "After this operation, 2,629 kB of additional disk space will be used.\n",
            "Get:1 http://archive.ubuntu.com/ubuntu bionic/main amd64 libgpm2 amd64 1.20.7-5 [15.1 kB]\n",
            "Get:2 http://archive.ubuntu.com/ubuntu bionic/main amd64 w3m amd64 0.5.3-36build1 [924 kB]\n",
            "Fetched 939 kB in 0s (2,325 kB/s)\n",
            "debconf: unable to initialize frontend: Dialog\n",
            "debconf: (No usable dialog-like program is installed, so the dialog based frontend cannot be used. at /usr/share/perl5/Debconf/FrontEnd/Dialog.pm line 76, <> line 2.)\n",
            "debconf: falling back to frontend: Readline\n",
            "debconf: unable to initialize frontend: Readline\n",
            "debconf: (This frontend requires a controlling tty.)\n",
            "debconf: falling back to frontend: Teletype\n",
            "dpkg-preconfigure: unable to re-open stdin: \n",
            "Selecting previously unselected package libgpm2:amd64.\n",
            "(Reading database ... 156215 files and directories currently installed.)\n",
            "Preparing to unpack .../libgpm2_1.20.7-5_amd64.deb ...\n",
            "Unpacking libgpm2:amd64 (1.20.7-5) ...\n",
            "Selecting previously unselected package w3m.\n",
            "Preparing to unpack .../w3m_0.5.3-36build1_amd64.deb ...\n",
            "Unpacking w3m (0.5.3-36build1) ...\n",
            "Setting up libgpm2:amd64 (1.20.7-5) ...\n",
            "Setting up w3m (0.5.3-36build1) ...\n",
            "Processing triggers for mime-support (3.60ubuntu1) ...\n",
            "Processing triggers for libc-bin (2.27-3ubuntu1.3) ...\n",
            "/sbin/ldconfig.real: /usr/local/lib/python3.7/dist-packages/ideep4py/lib/libmkldnn.so.0 is not a symbolic link\n",
            "\n",
            "Processing triggers for man-db (2.8.3-2ubuntu0.1) ...\n",
            "/content\n",
            "/content/gdrive\n",
            "Access token retrieved correctly.\n"
          ]
        }
      ],
      "source": [
        "# Connecting to google drive\n",
        "#Taken help from https://stackoverflow.com/questions/71695387/connecting-to-a-different-google-drive-than-the-one-logged-into-google-colab/71696254#71696254\n",
        "!sudo add-apt-repository ppa:alessandro-strada/ppa\n",
        "!sudo apt update && sudo apt install google-drive-ocamlfuse\n",
        "!google-drive-ocamlfuse\n",
        "\n",
        "!sudo apt-get install w3m # to act as web browser \n",
        "!xdg-settings set default-web-browser w3m.desktop # to set default browser\n",
        "\n",
        "\n",
        "%cd /content\n",
        "!mkdir gdrive\n",
        "%cd gdrive\n",
        "!mkdir \"My Drive\"\n",
        "!google-drive-ocamlfuse \"/content/gdrive/My Drive\""
      ]
    },
    {
      "cell_type": "code",
      "source": [
        "import pandas as pd\n",
        "import numpy as np\n",
        "import matplotlib.pyplot as plt\n",
        "import os\n",
        "import re\n",
        "from tqdm import tqdm\n",
        "import string \n",
        "import subprocess\n",
        "from tqdm import tqdm\n",
        "import string\n",
        "import shutil\n"
      ],
      "metadata": {
        "id": "F6bNV5zFTvfk"
      },
      "execution_count": 3,
      "outputs": []
    },
    {
      "cell_type": "code",
      "source": [
        "os.chdir('/content/gdrive/My Drive/appliedai/assignment/case_study_2')\n"
      ],
      "metadata": {
        "id": "9pTvju0-UT5Y"
      },
      "execution_count": 5,
      "outputs": []
    },
    {
      "cell_type": "code",
      "source": [
        "sub_directory_for_resume = 'spider_resumes_software'\n",
        "files_list = os.listdir(sub_directory_for_resume)\n",
        "\n"
      ],
      "metadata": {
        "id": "bYxab2V9UVjJ"
      },
      "execution_count": 6,
      "outputs": []
    },
    {
      "cell_type": "code",
      "source": [
        "def preprocess(file):\n",
        "  sub_directory_for_resume = 'spider_resumes_software'\n",
        "  complete_file_path = os.path.join(sub_directory_for_resume,file)\n",
        "  with open(complete_file_path,'r+') as f:\n",
        "    text = f.read()\n",
        "    text = \"\".join([s for s in text.splitlines(True) if s.strip(\"\\r\\n\")])\n",
        "    text = re.sub('[^A-Za-z0-9\\n]+', ' ', text)\n",
        "    \n",
        "  with open(complete_file_path,'w') as f2:\n",
        "    f2.write(text)\n"
      ],
      "metadata": {
        "id": "KGOtfy92UiZJ"
      },
      "execution_count": 7,
      "outputs": []
    },
    {
      "cell_type": "code",
      "source": [
        "for file_spec in tqdm(files_list):\n",
        "  preprocess(file_spec)\n"
      ],
      "metadata": {
        "id": "dSvHO-8FUnsp"
      },
      "execution_count": null,
      "outputs": []
    },
    {
      "cell_type": "markdown",
      "source": [
        "selecting the best files which contains folling keywords to make resume parser closed to the domain of software engineering"
      ],
      "metadata": {
        "id": "pOcXGb7DUuJ_"
      }
    },
    {
      "cell_type": "code",
      "source": [
        "def isSubstring(s1, s2):\n",
        "    M = len(s1)\n",
        "    N = len(s2)\n",
        " \n",
        "    # A loop to slide pat[] one by one\n",
        "    for i in range(N - M + 1):\n",
        " \n",
        "        # For current index i,\n",
        "        # check for pattern match\n",
        "        for j in range(M):\n",
        "            if (s2[i + j] != s1[j]):\n",
        "                break\n",
        "             \n",
        "        if j + 1 == M :\n",
        "            return i\n",
        " \n",
        "    return -1"
      ],
      "metadata": {
        "id": "XmUuHbrGUsFT"
      },
      "execution_count": 8,
      "outputs": []
    },
    {
      "cell_type": "code",
      "source": [
        "templst = []\n",
        "keywordlist = ['data science','datascience','dataanalysis','data analysis','python']\n",
        "for file_spec in tqdm(files_list):\n",
        "  with open(os.path.join(sub_directory_for_resume,file_spec),'r') as f:\n",
        "    temp_string = f.read()\n",
        "    for j in keywordlist:\n",
        "      if isSubstring(j,temp_string.lower())!=-1:\n",
        "        templst.append(file_spec)\n",
        "\n"
      ],
      "metadata": {
        "colab": {
          "base_uri": "https://localhost:8080/"
        },
        "id": "1r-IY3jPU4bS",
        "outputId": "52db11e5-d36a-4112-f14c-3365a145b723"
      },
      "execution_count": 9,
      "outputs": [
        {
          "output_type": "stream",
          "name": "stderr",
          "text": [
            "100%|██████████| 436/436 [02:39<00:00,  2.73it/s]\n"
          ]
        }
      ]
    },
    {
      "cell_type": "code",
      "source": [
        "destination =  'filtered_resumes'\n",
        "for i in tqdm(templst):\n",
        "  try:\n",
        "    shutil.move(os.path.join(sub_directory_for_resume,i),destination)\n",
        "  except:\n",
        "    pass\n"
      ],
      "metadata": {
        "id": "wTATReOrU6HU"
      },
      "execution_count": null,
      "outputs": []
    }
  ]
}