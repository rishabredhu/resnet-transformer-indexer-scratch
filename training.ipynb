{
  "cells": [
    {
      "cell_type": "code",
      "execution_count": null,
      "metadata": {
        "id": "1PUXJXgK7aNs"
      },
      "outputs": [],
      "source": [
        "# Installing the libraries for project\n",
        "!pip install -U pip setuptools wheel\n",
        "!pip install -U spacy\n",
        "!pip install spacy-transformers\n",
        "!python -m spacy download en_core_web_trf\n"
      ]
    },
    {
      "cell_type": "code",
      "execution_count": null,
      "metadata": {
        "id": "OLfYxM1NCxck"
      },
      "outputs": [],
      "source": [
        "# Connecting to google drive\n",
        "#Taken help from https://stackoverflow.com/questions/71695387/connecting-to-a-different-google-drive-than-the-one-logged-into-google-colab/71696254#71696254\n",
        "!sudo add-apt-repository ppa:alessandro-strada/ppa\n",
        "!sudo apt update && sudo apt install google-drive-ocamlfuse\n",
        "!google-drive-ocamlfuse\n",
        "\n",
        "!sudo apt-get install w3m # to act as web browser \n",
        "!xdg-settings set default-web-browser w3m.desktop # to set default browser\n",
        "\n",
        "\n",
        "%cd /content\n",
        "!mkdir gdrive\n",
        "%cd gdrive\n",
        "!mkdir \"My Drive\"\n",
        "!google-drive-ocamlfuse \"/content/gdrive/My Drive\""
      ]
    },
    {
      "cell_type": "code",
      "execution_count": 2,
      "metadata": {
        "id": "i6BgPa2HGW1Y"
      },
      "outputs": [],
      "source": [
        "import os \n",
        "import json\n",
        "import pandas as pd \n",
        "import numpy as np\n",
        "import matplotlib.pyplot as plt\n",
        "import spacy \n",
        "from spacy.tokens import DocBin\n",
        "from tqdm import tqdm\n",
        "\n"
      ]
    },
    {
      "cell_type": "code",
      "execution_count": null,
      "metadata": {
        "id": "JnBtMbqkHiDb"
      },
      "outputs": [],
      "source": [
        "os.chdir('/content/gdrive/My Drive/appliedai/assignment/case_study_2')"
      ]
    },
    {
      "cell_type": "code",
      "execution_count": null,
      "metadata": {
        "id": "61jFsDuoIC67"
      },
      "outputs": [],
      "source": [
        "spider_tagged_data = 'spider_software_tagged_data'\n",
        "list_tagged_files = os.listdir(spider_tagged_data)\n"
      ]
    },
    {
      "cell_type": "code",
      "execution_count": null,
      "metadata": {
        "id": "YQtWmdREBNVU"
      },
      "outputs": [],
      "source": [
        "# Code taken from https://github.com/explosion/spaCy/discussions/8456\n",
        "def make_v3_dataset(data, db = []):\n",
        "    nlp = spacy.blank('en')\n",
        "    failed_record = []\n",
        "    if not db:\n",
        "        db = DocBin()\n",
        "    for text, annot in tqdm(data):\n",
        "        doc = nlp.make_doc(text)\n",
        "        ents = []\n",
        "        for start, end, label in annot['entities']:\n",
        "            span = doc.char_span(start, end, label = label, alignment_mode = 'contract')\n",
        "            if span is None:\n",
        "                print(f'empty entity, {text}, {annot[\"entities\"]}') #I expect this to never happen\n",
        "            else:\n",
        "                ents.append(span)\n",
        "        try:\n",
        "            doc.ents = ents\n",
        "        except:\n",
        "            failed_record.append((text, annot))\n",
        "        db.add(doc)\n",
        "    return db, failed_record"
      ]
    },
    {
      "cell_type": "code",
      "execution_count": null,
      "metadata": {
        "colab": {
          "base_uri": "https://localhost:8080/"
        },
        "id": "-sBcS7ZlFYHl",
        "outputId": "9c7595f6-62a9-4889-a113-b61d6fdb99df"
      },
      "outputs": [
        {
          "name": "stderr",
          "output_type": "stream",
          "text": [
            "  0%|          | 0/51 [00:00<?, ?it/s]\n",
            "100%|██████████| 8/8 [00:00<00:00, 351.18it/s]\n",
            "  2%|▏         | 1/51 [00:02<02:26,  2.93s/it]\n",
            "100%|██████████| 9/9 [00:00<00:00, 327.18it/s]\n",
            "  4%|▍         | 2/51 [00:04<01:42,  2.09s/it]\n",
            "100%|██████████| 8/8 [00:00<00:00, 299.43it/s]\n",
            "  6%|▌         | 3/51 [00:05<01:28,  1.84s/it]\n",
            "100%|██████████| 6/6 [00:00<00:00, 243.50it/s]\n",
            "  8%|▊         | 4/51 [00:07<01:20,  1.71s/it]\n",
            "100%|██████████| 7/7 [00:00<00:00, 173.09it/s]\n",
            " 10%|▉         | 5/51 [00:11<01:55,  2.51s/it]\n",
            "100%|██████████| 9/9 [00:00<00:00, 456.09it/s]\n",
            " 12%|█▏        | 6/51 [00:13<01:53,  2.52s/it]\n",
            "100%|██████████| 7/7 [00:00<00:00, 284.64it/s]\n",
            " 14%|█▎        | 7/51 [00:16<01:50,  2.52s/it]\n",
            "100%|██████████| 7/7 [00:00<00:00, 161.76it/s]\n",
            " 16%|█▌        | 8/51 [00:19<01:56,  2.71s/it]\n",
            "100%|██████████| 9/9 [00:00<00:00, 414.20it/s]\n",
            " 18%|█▊        | 9/51 [00:22<01:50,  2.63s/it]\n",
            "100%|██████████| 8/8 [00:00<00:00, 204.12it/s]\n",
            " 20%|█▉        | 10/51 [00:25<01:52,  2.75s/it]\n",
            "100%|██████████| 6/6 [00:00<00:00, 248.27it/s]\n",
            " 22%|██▏       | 11/51 [00:28<01:52,  2.82s/it]\n",
            "100%|██████████| 7/7 [00:00<00:00, 231.74it/s]\n",
            " 24%|██▎       | 12/51 [00:30<01:50,  2.85s/it]\n",
            "100%|██████████| 7/7 [00:00<00:00, 296.40it/s]\n",
            " 25%|██▌       | 13/51 [00:33<01:49,  2.89s/it]\n",
            "100%|██████████| 5/5 [00:00<00:00, 242.65it/s]\n",
            " 27%|██▋       | 14/51 [00:36<01:42,  2.78s/it]\n",
            "100%|██████████| 4/4 [00:00<00:00, 226.08it/s]\n",
            " 29%|██▉       | 15/51 [00:38<01:26,  2.42s/it]\n",
            "100%|██████████| 6/6 [00:00<00:00, 254.79it/s]\n",
            " 31%|███▏      | 16/51 [00:41<01:30,  2.58s/it]\n",
            "100%|██████████| 7/7 [00:00<00:00, 327.30it/s]\n",
            " 33%|███▎      | 17/51 [00:43<01:27,  2.59s/it]\n",
            "100%|██████████| 8/8 [00:00<00:00, 682.26it/s]\n",
            " 35%|███▌      | 18/51 [00:46<01:30,  2.74s/it]\n",
            "100%|██████████| 8/8 [00:00<00:00, 591.98it/s]\n",
            " 37%|███▋      | 19/51 [00:49<01:29,  2.80s/it]\n",
            "100%|██████████| 8/8 [00:00<00:00, 313.30it/s]\n",
            " 39%|███▉      | 20/51 [00:52<01:27,  2.83s/it]\n",
            "100%|██████████| 6/6 [00:00<00:00, 655.36it/s]\n",
            " 41%|████      | 21/51 [00:55<01:25,  2.86s/it]\n",
            "100%|██████████| 8/8 [00:00<00:00, 371.75it/s]\n",
            " 43%|████▎     | 22/51 [00:58<01:21,  2.81s/it]\n",
            "100%|██████████| 8/8 [00:00<00:00, 311.36it/s]\n",
            " 45%|████▌     | 23/51 [00:59<01:07,  2.43s/it]\n",
            "100%|██████████| 8/8 [00:00<00:00, 224.64it/s]\n",
            " 47%|████▋     | 24/51 [01:02<01:08,  2.54s/it]\n",
            "100%|██████████| 7/7 [00:00<00:00, 367.88it/s]\n",
            " 49%|████▉     | 25/51 [01:05<01:09,  2.68s/it]\n",
            "100%|██████████| 8/8 [00:00<00:00, 274.82it/s]\n",
            " 51%|█████     | 26/51 [01:08<01:06,  2.66s/it]\n",
            "100%|██████████| 9/9 [00:00<00:00, 275.94it/s]\n",
            " 53%|█████▎    | 27/51 [01:11<01:12,  3.03s/it]\n",
            "100%|██████████| 8/8 [00:00<00:00, 417.47it/s]\n",
            " 55%|█████▍    | 28/51 [01:15<01:09,  3.03s/it]\n",
            "100%|██████████| 6/6 [00:00<00:00, 308.70it/s]\n",
            " 57%|█████▋    | 29/51 [01:16<00:56,  2.58s/it]\n",
            "100%|██████████| 6/6 [00:00<00:00, 254.07it/s]\n",
            " 59%|█████▉    | 30/51 [01:19<00:54,  2.61s/it]\n",
            "100%|██████████| 5/5 [00:00<00:00, 488.88it/s]\n",
            " 61%|██████    | 31/51 [01:22<00:54,  2.72s/it]\n",
            "100%|██████████| 6/6 [00:00<00:00, 453.80it/s]\n",
            " 63%|██████▎   | 32/51 [01:24<00:50,  2.65s/it]\n",
            "100%|██████████| 6/6 [00:00<00:00, 299.17it/s]\n",
            " 65%|██████▍   | 33/51 [01:26<00:41,  2.32s/it]\n",
            "100%|██████████| 7/7 [00:00<00:00, 258.11it/s]\n",
            " 67%|██████▋   | 34/51 [01:27<00:35,  2.08s/it]\n",
            "100%|██████████| 7/7 [00:00<00:00, 295.00it/s]\n",
            " 69%|██████▊   | 35/51 [01:30<00:37,  2.36s/it]\n",
            "100%|██████████| 6/6 [00:00<00:00, 547.34it/s]\n",
            " 71%|███████   | 36/51 [01:33<00:35,  2.39s/it]\n",
            "100%|██████████| 4/4 [00:00<00:00, 165.16it/s]\n",
            " 73%|███████▎  | 37/51 [01:34<00:29,  2.13s/it]\n",
            "100%|██████████| 6/6 [00:00<00:00, 351.61it/s]\n",
            " 75%|███████▍  | 38/51 [01:37<00:29,  2.27s/it]\n",
            "100%|██████████| 6/6 [00:00<00:00, 290.36it/s]\n",
            " 76%|███████▋  | 39/51 [01:40<00:30,  2.52s/it]\n",
            "100%|██████████| 6/6 [00:00<00:00, 147.98it/s]\n",
            " 78%|███████▊  | 40/51 [01:43<00:29,  2.66s/it]\n",
            "100%|██████████| 6/6 [00:00<00:00, 227.73it/s]\n",
            " 80%|████████  | 41/51 [01:46<00:27,  2.73s/it]\n",
            "100%|██████████| 5/5 [00:00<00:00, 138.89it/s]\n",
            " 82%|████████▏ | 42/51 [01:48<00:23,  2.65s/it]\n",
            "100%|██████████| 5/5 [00:00<00:00, 203.78it/s]\n",
            " 84%|████████▍ | 43/51 [01:51<00:21,  2.65s/it]\n",
            "100%|██████████| 5/5 [00:00<00:00, 163.74it/s]\n",
            " 86%|████████▋ | 44/51 [01:54<00:18,  2.71s/it]\n",
            "100%|██████████| 5/5 [00:00<00:00, 370.69it/s]\n",
            " 88%|████████▊ | 45/51 [01:56<00:16,  2.68s/it]\n",
            "100%|██████████| 5/5 [00:00<00:00, 457.64it/s]\n",
            " 90%|█████████ | 46/51 [01:59<00:13,  2.76s/it]\n",
            "100%|██████████| 4/4 [00:00<00:00, 390.07it/s]\n",
            " 92%|█████████▏| 47/51 [02:01<00:09,  2.40s/it]\n",
            "100%|██████████| 6/6 [00:00<00:00, 508.07it/s]\n",
            " 94%|█████████▍| 48/51 [02:02<00:06,  2.13s/it]\n",
            "100%|██████████| 6/6 [00:00<00:00, 531.42it/s]\n",
            " 96%|█████████▌| 49/51 [02:05<00:04,  2.22s/it]\n",
            "100%|██████████| 7/7 [00:00<00:00, 409.65it/s]\n",
            " 98%|█████████▊| 50/51 [02:07<00:02,  2.28s/it]\n",
            "100%|██████████| 7/7 [00:00<00:00, 321.50it/s]\n",
            "100%|██████████| 51/51 [02:09<00:00,  2.53s/it]\n"
          ]
        }
      ],
      "source": [
        "# Converting json annotated files to spacy format\n",
        "for i in tqdm(range(len(list_tagged_files))):\n",
        "  file_path = os.path.join(spider_tagged_data,list_tagged_files[i])\n",
        "  # print(file_path)\n",
        "  with open(file_path,'r') as f:\n",
        "    data = json.load(f)\n",
        "  saving_path = os.path.join('output_tagged_spacy_from',list_tagged_files[i][:-5]+'.spacy')\n",
        "  a,b = make_v3_dataset(data['annotations'])\n",
        "  a.to_disk(saving_path)\n",
        "                        \n"
      ]
    },
    {
      "cell_type": "markdown",
      "source": [
        "References from some bellow cell code blocks is taken from https://towardsdatascience.com/how-to-fine-tune-bert-transformer-with-spacy-3-6a90bfe57647"
      ],
      "metadata": {
        "id": "qsndkXO9QxTN"
      }
    },
    {
      "cell_type": "code",
      "execution_count": null,
      "metadata": {
        "colab": {
          "base_uri": "https://localhost:8080/"
        },
        "id": "F7E5EjzfMqtq",
        "outputId": "6b3701a6-16d4-4cbf-995a-a29a81c1ff05"
      },
      "outputs": [
        {
          "name": "stdout",
          "output_type": "stream",
          "text": [
            "\u001b[38;5;2m✔ Auto-filled config with all values\u001b[0m\n",
            "\u001b[38;5;2m✔ Saved config\u001b[0m\n",
            "config.cfg\n",
            "You can now add your data and train your pipeline:\n",
            "python -m spacy train config.cfg --paths.train ./train.spacy --paths.dev ./dev.spacy\n"
          ]
        }
      ],
      "source": [
        "# Initialization setting\n",
        "!python -m spacy init fill-config base_config.cfg config.cfg"
      ]
    },
    {
      "cell_type": "code",
      "execution_count": 7,
      "metadata": {
        "colab": {
          "base_uri": "https://localhost:8080/"
        },
        "id": "TS3TA9KaOWTt",
        "outputId": "7c1954a5-2387-4942-ad9f-74e4135b4d45"
      },
      "outputs": [
        {
          "output_type": "stream",
          "name": "stdout",
          "text": [
            "\u001b[38;5;4mℹ Saving to output directory: generated_model\u001b[0m\n",
            "\u001b[38;5;4mℹ Using GPU: 0\u001b[0m\n",
            "\u001b[1m\n",
            "=========================== Initializing pipeline ===========================\u001b[0m\n",
            "[2022-04-08 05:38:28,363] [INFO] Set up nlp object from config\n",
            "[2022-04-08 05:38:28,374] [INFO] Pipeline: ['transformer', 'ner']\n",
            "[2022-04-08 05:38:28,378] [INFO] Created vocabulary\n",
            "[2022-04-08 05:38:28,379] [INFO] Finished initializing nlp object\n",
            "Downloading: 100% 481/481 [00:00<00:00, 587kB/s]\n",
            "Downloading: 100% 878k/878k [00:00<00:00, 2.43MB/s]\n",
            "Downloading: 100% 446k/446k [00:00<00:00, 1.83MB/s]\n",
            "Downloading: 100% 1.29M/1.29M [00:00<00:00, 4.29MB/s]\n",
            "Downloading: 100% 478M/478M [00:12<00:00, 38.8MB/s]\n",
            "Some weights of the model checkpoint at roberta-base were not used when initializing RobertaModel: ['lm_head.layer_norm.bias', 'lm_head.dense.weight', 'lm_head.decoder.weight', 'lm_head.dense.bias', 'lm_head.bias', 'lm_head.layer_norm.weight']\n",
            "- This IS expected if you are initializing RobertaModel from the checkpoint of a model trained on another task or with another architecture (e.g. initializing a BertForSequenceClassification model from a BertForPreTraining model).\n",
            "- This IS NOT expected if you are initializing RobertaModel from the checkpoint of a model that you expect to be exactly identical (initializing a BertForSequenceClassification model from a BertForSequenceClassification model).\n",
            "[2022-04-08 05:38:58,611] [INFO] Initialized pipeline components: ['transformer', 'ner']\n",
            "\u001b[38;5;2m✔ Initialized pipeline\u001b[0m\n",
            "\u001b[1m\n",
            "============================= Training pipeline =============================\u001b[0m\n",
            "\u001b[38;5;4mℹ Pipeline: ['transformer', 'ner']\u001b[0m\n",
            "\u001b[38;5;4mℹ Initial learn rate: 0.0\u001b[0m\n",
            "E    #       LOSS TRANS...  LOSS NER  ENTS_F  ENTS_P  ENTS_R  SCORE \n",
            "---  ------  -------------  --------  ------  ------  ------  ------\n",
            "  0       0         936.42   1155.87    0.00    0.00    0.00    0.00\n",
            "  6     200      352227.75  60043.15   11.02   49.06    6.21    0.11\n",
            " 13     400      460324.74  28224.40   19.90   26.33   15.99    0.20\n",
            " 20     600       50352.40  15343.06   47.65   53.49   42.96    0.48\n",
            " 27     800       16405.41   8523.60   74.06   72.09   76.13    0.74\n",
            " 34    1000       12090.21   4947.21   85.70   83.89   87.59    0.86\n",
            " 42    1200       16757.50   3156.14   94.27   94.38   94.15    0.94\n",
            " 49    1400       22162.90   2266.14   97.49   97.84   97.14    0.97\n",
            " 56    1600        2208.30   1378.22   98.39   98.33   98.45    0.98\n",
            " 63    1800        1458.39    953.86   98.63   98.22   99.05    0.99\n",
            " 70    2000        1378.34    854.02   98.87   98.81   98.93    0.99\n",
            " 77    2200         888.61    706.37   99.34   99.17   99.52    0.99\n",
            " 84    2400         569.76    463.92   99.35   98.93   99.76    0.99\n",
            " 91    2600         569.93    490.12   98.76   97.78   99.76    0.99\n",
            " 98    2800         544.31    449.62   99.52   99.40   99.64    1.00\n",
            "105    3000         561.52    481.68   98.99   99.04   98.93    0.99\n",
            "112    3200         549.16    418.78   99.58   99.52   99.64    1.00\n",
            "119    3400         589.70    434.46   99.05   99.05   99.05    0.99\n",
            "126    3600        1051.36    496.21   99.05   98.70   99.40    0.99\n",
            "133    3800         530.62    418.54   99.70   99.76   99.64    1.00\n",
            "140    4000         465.16    326.46   99.52   99.40   99.64    1.00\n",
            "147    4200        2773.52    369.31   99.76   99.76   99.76    1.00\n",
            "154    4400        2211.48    358.96   99.76   99.76   99.76    1.00\n",
            "161    4600        4071.92    364.11   99.76   99.76   99.76    1.00\n",
            "168    4800        2395.52    407.89   99.40   99.40   99.40    0.99\n",
            "175    5000         332.28    275.80   99.58   99.64   99.52    1.00\n",
            "182    5200         351.07    274.00   99.76   99.76   99.76    1.00\n",
            "189    5400         344.42    282.41   99.76   99.76   99.76    1.00\n",
            "196    5600         321.64    254.84   99.76   99.76   99.76    1.00\n",
            "203    5800         392.95    297.01   99.76   99.76   99.76    1.00\n",
            "\u001b[38;5;2m✔ Saved pipeline to output directory\u001b[0m\n",
            "generated_model/model-last\n"
          ]
        }
      ],
      "source": [
        "# This took approximately 8 hour for training on google colab pro gpu mode \n",
        "!python -m spacy train -g 0 config.cfg  --output generated_model/ --paths.train output_tagged_spacy_from/ --paths.dev cross_val/\n"
      ]
    },
    {
      "cell_type": "code",
      "source": [
        "nlp = spacy.load('generated_model/model-best')\n"
      ],
      "metadata": {
        "id": "Yu5v-gmwDbk2"
      },
      "execution_count": 16,
      "outputs": []
    },
    {
      "cell_type": "code",
      "execution_count": 18,
      "metadata": {
        "id": "DX6PCa9KBCO3"
      },
      "outputs": [],
      "source": [
        "# Test example\n",
        "main_str = ['''Manufacturing Production Manager Resume\n",
        "Desired Industry Manufacturing\n",
        "SpiderID 78692\n",
        "Desired Job Location Windsor Colorado\n",
        "Date Posted 1 23 2017\n",
        "Type of Position Full Time Permanent\n",
        "Availability Date Immediately\n",
        "Desired Wage 95000\n",
        "U S Work Authorization Yes\n",
        "Job Level Management Manager Director \n",
        "Willing to Travel \n",
        "Highest Degree Attained Other\n",
        "Willing to Relocate Yes\n",
        "Objective Dynamic and growth driven professional offering hands on management experience and comprehensive background in manufacturing and engineering operations within highly competitive setting Adept at reengineering unproductive work processes as well as in planning and implementing various sustainable and cost effective work programs to drive continuous improvement of operations Armed with exceptional organizational and critical problem solving aptitudes to formulate effective solutions on complex production and quality issues Equipped with tactical leadership capabilities in supervising and guiding teams toward the successful and timely completion of projects Proficient with Microsoft Office applications Project Management and Microsoft Visio \n",
        "Experience Relevant ExperienceVestas Blades America Windsor COProduction Engineer Jan 2014 PresentContribute efforts in achieving production plan budget tooling equipment and bill of material along with quality control and safety Conceptualized new methods to optimize production levels while maintaining production costs yields quality and safety Identified and resolved process problems with effective solutions which decreased downtime and minimized costs Initiated plant trials to measure performance capabilities while ensuring updated documentation of process procedures Leveraged industry expertise in streamlining the manufacturing of turbine blades Production Supervisor Mar 2009 Jan 2014Rendered oversight to more than 70 employees to guarantee accordance of operation with production plan and goals Observed strict compliance with safety and quality guidelines and handled inventory control created schedules delegated work and facilitated training of staff Generated production reports for production and operations managers regarding production areas performance Served as a Shells Lighthouse project member while drafting and modifying all standard operating procedures Functioned as department lead for production quality training and process improvements Closely monitored operations productivity to determine areas for improvement in overall production process Pioneered the development of all shells production process job cards that decreased process times and improved efficiency and quality through changed production flow layout Anheuser Busch Fort Collis COBrew House Control Panel Operator Mar 2007 Mar 2009Efficiently administered beer brewing process from raw material selection and recipe formulation through the use of Siemens software Strictly enforced standard operating procedures and safe working practices Determined and evaluated all critical control points to achieve consistent product quality within allotted schedules Other ExperienceUnited States Airways Denver CoCustomer Service Representative Kroger Co King Soopers Smiths Food Drug Fort Collins CoGrocery Manager Head Clerk Night Crew Manager Front End ManagerInventory Control Manager Warehouse Manager \n",
        "Education EducationAssociate of Science with emphasis in chemistry and biologyFront Range Community College Fort Collins COPharmacy Pre Requisites for Doctor of Pharmacy Pharm D University of Wyoming Laramie WYPharmacy Pre Requisites for Doctor of Pharmacy Pharm D Western Wyoming Community College Rock Springs WY Deans Honor RollProfessional DevelopmentCertificationsSupervisor Certification Six Sigma Yellow Belt Project ManagementQuality Management Crucial Conversations Fort Lift License Crane License\n",
        "Affiliations \n",
        "Skills Manufacturing Production Manager Project Planning Cost Reduction and Budget Optimization Resource Allocation Six Sigma Quality ControlLean Manufacturing Plant Management Manufacturing Inspection Administration Cross functional Team Building\n",
        "Additional Information TrainingProduction Instructor Coordinator Planner Coordinator Wrote Training Document\n",
        "Reference Available upon request \n",
        "Candidate Contact Information \n",
        "JobSpider com has chosen not to make contact information available on this page Click Contact Candidate to send this candidate a response \n",
        "Manufacturing Production Manager Resume\n",
        "Desired Industry Manufacturing\n",
        "SpiderID 78692\n",
        "Desired Job Location Windsor Colorado\n",
        "Date Posted 1 23 2017\n",
        "Type of Position Full Time Permanent\n",
        "Availability Date Immediately\n",
        "Desired Wage 95000\n",
        "U S Work Authorization Yes\n",
        "Job Level Management Manager Director \n",
        "Willing to Travel \n",
        "Highest Degree Attained Other\n",
        "Willing to Relocate Yes\n",
        "Objective Dynamic and growth driven professional offering hands on management experience and comprehensive background in manufacturing and engineering operations within highly competitive setting Adept at reengineering unproductive work processes as well as in planning and implementing various sustainable and cost effective work programs to drive continuous improvement of operations Armed with exceptional organizational and critical problem solving aptitudes to formulate effective solutions on complex production and quality issues Equipped with tactical leadership capabilities in supervising and guiding teams toward the successful and timely completion of projects Proficient with Microsoft Office applications Project Management and Microsoft Visio \n",
        "Experience Relevant ExperienceVestas Blades America Windsor COProduction Engineer Jan 2014 PresentContribute efforts in achieving production plan budget tooling equipment and bill of material along with quality control and safety Conceptualized new methods to optimize production levels while maintaining production costs yields quality and safety Identified and resolved process problems with effective solutions which decreased downtime and minimized costs Initiated plant trials to measure performance capabilities while ensuring updated documentation of process procedures Leveraged industry expertise in streamlining the manufacturing of turbine blades Production Supervisor Mar 2009 Jan 2014Rendered oversight to more than 70 employees to guarantee accordance of operation with production plan and goals Observed strict compliance with safety and quality guidelines and handled inventory control created schedules delegated work and facilitated training of staff Generated production reports for production and operations managers regarding production areas performance Served as a Shells Lighthouse project member while drafting and modifying all standard operating procedures Functioned as department lead for production quality training and process improvements Closely monitored operations productivity to determine areas for improvement in overall production process Pioneered the development of all shells production process job cards that decreased process times and improved efficiency and quality through changed production flow layout Anheuser Busch Fort Collis COBrew House Control Panel Operator Mar 2007 Mar 2009Efficiently administered beer brewing process from raw material selection and recipe formulation through the use of Siemens software Strictly enforced standard operating procedures and safe working practices Determined and evaluated all critical control points to achieve consistent product quality within allotted schedules Other ExperienceUnited States Airways Denver CoCustomer Service Representative Kroger Co King Soopers Smiths Food Drug Fort Collins CoGrocery Manager Head Clerk Night Crew Manager Front End ManagerInventory Control Manager Warehouse Manager \n",
        "Education EducationAssociate of Science with emphasis in chemistry and biologyFront Range Community College Fort Collins COPharmacy Pre Requisites for Doctor of Pharmacy Pharm D University of Wyoming Laramie WYPharmacy Pre Requisites for Doctor of Pharmacy Pharm D Western Wyoming Community College Rock Springs WY Deans Honor RollProfessional DevelopmentCertificationsSupervisor Certification Six Sigma Yellow Belt Project ManagementQuality Management Crucial Conversations Fort Lift License Crane License\n",
        "Affiliations \n",
        "Skills Manufacturing Production Manager Project Planning Cost Reduction and Budget Optimization Resource Allocation Six Sigma Quality ControlLean Manufacturing Plant Management Manufacturing Inspection Administration Cross functional Team Building\n",
        "Additional Information TrainingProduction Instructor Coordinator Planner Coordinator Wrote Training Document\n",
        "Reference Available upon request \n",
        "Candidate Contact Information \n",
        "JobSpider com has chosen not to make contact information available on this page Click Contact Candidate to send this candidate a response''' ] \n"
      ]
    },
    {
      "cell_type": "code",
      "source": [
        "for doc in nlp.pipe(main_str, disable=[\"tagger\", \"parser\"]):\n",
        "  for ent in doc.ents:\n",
        "    print((ent.text,ent.label_))\n",
        "    # print([(ent.text, ent.label_) for ent in doc.ents])\n"
      ],
      "metadata": {
        "colab": {
          "base_uri": "https://localhost:8080/"
        },
        "id": "x1TlCpYVDPEZ",
        "outputId": "a78134f1-fdd3-4f30-ab27-26a0c5635134"
      },
      "execution_count": 21,
      "outputs": [
        {
          "output_type": "stream",
          "name": "stdout",
          "text": [
            "('Manufacturing Production Manager', 'JOB_TITLE')\n",
            "('Manager Director', 'JOB_TITLE')\n",
            "('manufacturing and engineering operations', 'SKILL')\n",
            "('reengineering unproductive work processes as well as in planning and implementing various sustainable and cost effective work programs to drive continuous improvement of operations', 'SKILL')\n",
            "('Microsoft Office applications Project Management', 'TOOL')\n",
            "('Microsoft Visio', 'TOOL')\n",
            "('ExperienceVestas Blades America', 'ORG')\n",
            "('COProduction Engineer Jan 2014 PresentContribute efforts in achieving production plan budget tooling equipment and bill of material along with quality control and safety', 'EXPERIENCE')\n",
            "('EducationAssociate of Science with emphasis in chemistry', 'DEGREE')\n",
            "('biologyFront Range Community College Fort Collins', 'ORG')\n",
            "('Doctor of Pharmacy Pharm D', 'DEGREE')\n",
            "('Doctor of Pharmacy Pharm D', 'DEGREE')\n",
            "('Manufacturing Production ManagerProject', 'SKILL')\n",
            "('Manufacturing Production Manager', 'JOB_TITLE')\n",
            "('Manager Director', 'JOB_TITLE')\n",
            "('manufacturing and engineering operations', 'SKILL')\n",
            "('reengineering unproductive work processes as well as in planning and implementing various sustainable and cost effective work programs to drive continuous improvement of operations', 'SKILL')\n",
            "('Microsoft Office applications', 'TOOL')\n",
            "('Microsoft Visio', 'TOOL')\n",
            "('ExperienceVestas Blades America', 'ORG')\n",
            "('COProduction Engineer Jan 2014 PresentContribute efforts in achieving production plan budget tooling equipment and bill of material along with quality control and safety', 'EXPERIENCE')\n",
            "('Anheuser Busch Fort Collis', 'ORG')\n",
            "('EducationAssociate of Science with emphasis in chemistry', 'DEGREE')\n",
            "('biologyFront Range Community College Fort Collins', 'EDUC')\n",
            "('Doctor of Pharmacy Pharm D', 'DEGREE')\n",
            "('Doctor of Pharmacy Pharm D', 'DEGREE')\n",
            "('TrainingProduction Instructor Coordinator Planner Coordinator Wrote Training Document\\nReference Available upon request \\nCandidate Contact Information \\nJobSpider com has chosen not to make contact information available on this page Click Contact Candidate to send this candidate a response', 'EXPERIENCE')\n"
          ]
        }
      ]
    }
  ],
  "metadata": {
    "accelerator": "GPU",
    "colab": {
      "machine_shape": "hm",
      "name": "training.ipynb",
      "provenance": []
    },
    "kernelspec": {
      "display_name": "Python 3",
      "name": "python3"
    },
    "language_info": {
      "name": "python"
    }
  },
  "nbformat": 4,
  "nbformat_minor": 0
}